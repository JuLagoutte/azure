{
 "cells": [
  {
   "cell_type": "code",
   "execution_count": null,
   "metadata": {},
   "outputs": [],
   "source": [
    "%matplotlib inline\n",
    "import numpy as np\n",
    "import matplotlib.pyplot as plt\n",
    "\n",
    "import azureml.core\n",
    "from azureml.core import Workspace\n",
    "\n",
    "# check core SDK version number\n",
    "print(\"Azure ML SDK Version: \", azureml.core.VERSION)"
   ]
  },
  {
   "cell_type": "markdown",
   "metadata": {},
   "source": [
    "### Connection au Workspace"
   ]
  },
  {
   "cell_type": "code",
   "execution_count": null,
   "metadata": {},
   "outputs": [],
   "source": [
    "# load workspace configuration from the config.json file in the current folder.\n",
    "subscription_id = \"votre clé\"\n",
    "resource_group = \"ProjectGroup3\"\n",
    "workspace_name = \"Christophe_ML\"\n",
    "ws = Workspace(subscription_id, resource_group, workspace_name)\n",
    "print(ws.name, ws.location, ws.resource_group, sep='\\t')"
   ]
  },
  {
   "cell_type": "markdown",
   "metadata": {},
   "source": [
    "### Création d'un blob storage"
   ]
  },
  {
   "cell_type": "code",
   "execution_count": null,
   "metadata": {},
   "outputs": [],
   "source": [
    "from azure.storage.blob import BlockBlobService\n",
    "\n",
    "# Connect to our blob via the BlobService\n",
    "blob_service = BlockBlobService('christophestorage', 'clé du storage')\n",
    "\n",
    "# Create a container\n",
    "blob_service.create_container('seloger')"
   ]
  },
  {
   "cell_type": "markdown",
   "metadata": {},
   "source": [
    "### Upload du csv dans le blob"
   ]
  },
  {
   "cell_type": "code",
   "execution_count": null,
   "metadata": {},
   "outputs": [],
   "source": [
    "from azure.storage.blob import Blob\n",
    "\n",
    "blob_service.create_blob_from_path('seloger', 'biens_features', 'biens_features.csv', content_settings=None, metadata=None, validate_content=False, progress_callback=None, max_connections=2, lease_id=None, if_modified_since=None, if_unmodified_since=None, if_match=None, if_none_match=None, timeout=None)"
   ]
  },
  {
   "cell_type": "markdown",
   "metadata": {},
   "source": [
    "### Liaison du blob storage au workspace de AMLS"
   ]
  },
  {
   "cell_type": "code",
   "execution_count": null,
   "metadata": {},
   "outputs": [],
   "source": [
    "from azureml.data.data_reference import DataReference\n",
    "from msrest.exceptions import HttpOperationError\n",
    "\n",
    "blob_datastore_name='christophestore'\n",
    "account_name=os.getenv(\"BLOB_ACCOUNTNAME_62\", \"christophestorage\") # Storage account name\n",
    "container_name=os.getenv(\"BLOB_CONTAINER_62\", \"seloger\") # Name of Azure blob container\n",
    "account_key=os.getenv(\"BLOB_ACCOUNT_KEY_62\", \"clé du storage\") # Storage account key\n",
    "\n",
    "try:\n",
    "    blob_datastore = Datastore.get(ws, blob_datastore_name)\n",
    "    print(\"Found Blob Datastore with name: %s\" % blob_datastore_name)\n",
    "except HttpOperationError:\n",
    "    blob_datastore = Datastore.register_azure_blob_container(\n",
    "        workspace=ws,\n",
    "        datastore_name=blob_datastore_name,\n",
    "        account_name=account_name, # Storage account name\n",
    "        container_name=container_name, # Name of Azure blob container\n",
    "        account_key=account_key) # Storage account key\n",
    "    print(\"Registered blob datastore with name: %s\" % blob_datastore_name)\n",
    "\n",
    "blob_data_ref = DataReference(\n",
    "    datastore=blob_datastore,\n",
    "    data_reference_name=\"blob_test_data\",\n",
    "    path_on_datastore=\"testdata\")"
   ]
  },
  {
   "cell_type": "markdown",
   "metadata": {},
   "source": [
    "### Création du dataset à partir du blob"
   ]
  },
  {
   "cell_type": "code",
   "execution_count": null,
   "metadata": {},
   "outputs": [],
   "source": [
    "from azureml.core import Dataset\n",
    "\n",
    "datastore = Datastore.get(ws, 'christophestore')\n",
    "datastore_paths = [(datastore, 'biens_features')]\n",
    "biens_ds = Dataset.Tabular.from_delimited_files(path=datastore_paths)"
   ]
  },
  {
   "cell_type": "markdown",
   "metadata": {},
   "source": [
    "### Enregistrement du dataset"
   ]
  },
  {
   "cell_type": "code",
   "execution_count": null,
   "metadata": {},
   "outputs": [],
   "source": [
    "biens_ds.register(workspace =ws, name =\"biens_dataset\", description=\"test\", create_new_version=True)"
   ]
  },
  {
   "cell_type": "markdown",
   "metadata": {},
   "source": [
    "### Récupération du dataset"
   ]
  },
  {
   "cell_type": "code",
   "execution_count": null,
   "metadata": {},
   "outputs": [],
   "source": [
    "import azureml.core\n",
    "from azureml.core import Workspace, Dataset\n",
    "\n",
    "# Get a dataset from the workspace datasets collection\n",
    "ds1 = ws.datasets['biens_dataset']\n",
    "ds1\n",
    "\n"
   ]
  }
 ],
 "metadata": {
  "kernelspec": {
   "display_name": "Python 3",
   "language": "python",
   "name": "python3"
  },
  "language_info": {
   "codemirror_mode": {
    "name": "ipython",
    "version": 3
   },
   "file_extension": ".py",
   "mimetype": "text/x-python",
   "name": "python",
   "nbconvert_exporter": "python",
   "pygments_lexer": "ipython3",
   "version": "3.7.7"
  }
 },
 "nbformat": 4,
 "nbformat_minor": 4
}
